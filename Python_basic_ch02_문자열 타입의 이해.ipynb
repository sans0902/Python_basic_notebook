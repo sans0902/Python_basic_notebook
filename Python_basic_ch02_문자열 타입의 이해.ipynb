{
 "cells": [
  {
   "cell_type": "markdown",
   "metadata": {},
   "source": [
    "## 1. 문자열(string)\n",
    "- 복수개의 문자를 순서대로 나열한 것\n",
    "- 문자열은 \"\"또는 '' 사이에 문자를 넣어서 생성\n",
    "- 문자열 자체에 '' 또는 \"\" 있는 경우 각각 그 반대로 사용"
   ]
  },
  {
   "cell_type": "code",
   "execution_count": 3,
   "metadata": {},
   "outputs": [
    {
     "name": "stdout",
     "output_type": "stream",
     "text": [
      "챗봇: '만나서 반갑습니다.'\n"
     ]
    }
   ],
   "source": [
    "print(\"챗봇: '만나서 반갑습니다.'\")"
   ]
  },
  {
   "cell_type": "code",
   "execution_count": 1,
   "metadata": {},
   "outputs": [
    {
     "name": "stdout",
     "output_type": "stream",
     "text": [
      "Hi\n",
      "Hi\n",
      "\n",
      "      Hi\n",
      "      \n",
      "\n",
      "      Hi\n",
      "      \n"
     ]
    }
   ],
   "source": [
    "print('Hi')    #한줄 출력\n",
    "print(\"Hi\")    # \"\"\n",
    "print('''\n",
    "      Hi\n",
    "      ''')    #여러줄 출력\n",
    "print(\"\"\"\n",
    "      Hi\n",
    "      \"\"\")     #\"\""
   ]
  },
  {
   "cell_type": "markdown",
   "metadata": {},
   "source": [
    "## 2. 문자열 인덱스(index)\n",
    "- 문자열의 각 문자는 순서(인덱스)가 있음\n",
    "- 첫번째 문자부터 마지막문자까지 순차적으로 인덱스를 가짐\n",
    "- 인덱스의 시작은 0번부터 시작\n",
    "- 인덱스는 공백 포함"
   ]
  },
  {
   "cell_type": "markdown",
   "metadata": {},
   "source": [
    "### 문자추출\n",
    "- 인덱스번호를 통해서 문자 추출 가능\n",
    "- 인덱스 범위를 벗어나면 error 발생\n",
    "\n",
    "> 변수명[인덱스번호]. -> name[3]"
   ]
  },
  {
   "cell_type": "code",
   "execution_count": 11,
   "metadata": {},
   "outputs": [
    {
     "name": "stdout",
     "output_type": "stream",
     "text": [
      "o\n",
      "n\n"
     ]
    }
   ],
   "source": [
    "#문자열 길이: 12\n",
    "#인덱스 번호: 0~ 11\n",
    "#리버스 인덱스 번호: -1~-12\n",
    "msg = \"Hello Python\"\n",
    "print(msg[4])\n",
    "print(msg[11])"
   ]
  },
  {
   "cell_type": "markdown",
   "metadata": {},
   "source": [
    "### reverse index(-1)"
   ]
  },
  {
   "cell_type": "code",
   "execution_count": 12,
   "metadata": {},
   "outputs": [
    {
     "name": "stdout",
     "output_type": "stream",
     "text": [
      "n\n",
      "h\n"
     ]
    }
   ],
   "source": [
    "msg= \"Hello Python\"\n",
    "print(msg[-1])\n",
    "print(msg[-3])"
   ]
  },
  {
   "cell_type": "markdown",
   "metadata": {},
   "source": [
    "## 3. 문자열 슬라이싱\n",
    "- a[3]은 인덱스를 통해 문자 하나만 추출 가능\n",
    "- 부분 문자열을 추출하고 싶은 경우 슬라이싱 사용\n",
    "- 시작인덱스 번호가 생략되면 0으로 설정\n",
    "- 끝 인덱스 번혹가 생략되면 -1으로 설정\n",
    "\n",
    "\n",
    "> 변수명[시작:끝]  ->  name[3:5]    3~4(끝 인덱스 -1)"
   ]
  },
  {
   "cell_type": "code",
   "execution_count": 23,
   "metadata": {},
   "outputs": [
    {
     "name": "stdout",
     "output_type": "stream",
     "text": [
      "Python\n",
      "Python\n",
      " is all you need\n",
      "Python is all you need\n"
     ]
    }
   ],
   "source": [
    "comment = \"Python is all you need\"\n",
    "print(comment[0:6])   #0번~5번까지 추출  -> 뒤에 인덱스 -1\n",
    "print(comment[:6])    #\"\"\n",
    "print(comment[6:])    #6번~-1까지 추출\n",
    "print(comment[:])     #전체 추출"
   ]
  },
  {
   "cell_type": "code",
   "execution_count": 33,
   "metadata": {},
   "outputs": [
    {
     "name": "stdout",
     "output_type": "stream",
     "text": [
      "need\n",
      "need\n"
     ]
    }
   ],
   "source": [
    "comment = \"Python is all you need\"\n",
    "print(comment[18:])\n",
    "print(comment[-4:])"
   ]
  },
  {
   "cell_type": "markdown",
   "metadata": {},
   "source": [
    "## 4. 문자열 멤버 함수\n"
   ]
  },
  {
   "cell_type": "code",
   "execution_count": 34,
   "metadata": {},
   "outputs": [],
   "source": [
    "str = \"Hello World\""
   ]
  },
  {
   "cell_type": "code",
   "execution_count": 35,
   "metadata": {},
   "outputs": [
    {
     "name": "stdout",
     "output_type": "stream",
     "text": [
      "11\n"
     ]
    }
   ],
   "source": [
    "# len():  문자열 길이를 계산\n",
    "print(len(str))"
   ]
  },
  {
   "cell_type": "code",
   "execution_count": 38,
   "metadata": {},
   "outputs": [
    {
     "name": "stdout",
     "output_type": "stream",
     "text": [
      "HELLO WORLD\n",
      "hello world\n"
     ]
    }
   ],
   "source": [
    "# upper() and lower():  대문자 또는 소문자로 변경\n",
    "print(str.upper())\n",
    "print(str.lower())\n"
   ]
  },
  {
   "cell_type": "code",
   "execution_count": 46,
   "metadata": {},
   "outputs": [
    {
     "name": "stdout",
     "output_type": "stream",
     "text": [
      "Hellz Wzrld\n"
     ]
    }
   ],
   "source": [
    "# replace(): 문자열내의 특정 문자 치환\n",
    "print(str.replace(\"o\",\"z\"))    #복수개의 단어 치환 가능\n"
   ]
  },
  {
   "cell_type": "code",
   "execution_count": 54,
   "metadata": {},
   "outputs": [
    {
     "name": "stdout",
     "output_type": "stream",
     "text": [
      "['hello ', 'orld ', 'hat a nice ', 'eather']\n",
      "['hello', 'world', 'what', 'a', 'nice', 'weather']\n"
     ]
    }
   ],
   "source": [
    "# split(): 구분자를 기준으로 문자열 분할,  default 구분자는 공백을 사용\n",
    "\n",
    "a = \"hello world what a nice weather\"\n",
    "print(a.split(\"w\"))\n",
    "print(a.split())"
   ]
  },
  {
   "cell_type": "code",
   "execution_count": 4,
   "metadata": {},
   "outputs": [
    {
     "name": "stdout",
     "output_type": "stream",
     "text": [
      "아이디:                lrw0902          ,  길이:   32\n",
      "아이디: lrw0902,  길이:   7\n"
     ]
    }
   ],
   "source": [
    "# strip() : 문자열의 좌우공백을 제거\n",
    "id = \"               lrw0902          \"\n",
    "print(f\"아이디: {id},  길이:   {len(id)}\")\n",
    "print(f\"아이디: {id.strip()},  길이:   {len(id.strip())}\")"
   ]
  },
  {
   "cell_type": "code",
   "execution_count": 8,
   "metadata": {},
   "outputs": [
    {
     "name": "stdout",
     "output_type": "stream",
     "text": [
      "2\n",
      "3\n",
      "6\n",
      "6\n"
     ]
    }
   ],
   "source": [
    "# find() amd rfind()\n",
    "# - 문자열 내부의 특정 문자의 인덱스를 출력\n",
    "str = \"Hello Python\"\n",
    "print(str.find(\"l\"))   #str에서 첫 번째 l은 두 번째 인덱스에 존제\n",
    "print(str.rfind(\"l\"))   #str에서 마지막 번째 l은 세 번째 인덱스에 존제\n",
    "print(str.find(\"Python\"))  #문자열도 가능!\n",
    "print(str.rfind(\"Python\"))"
   ]
  },
  {
   "cell_type": "code",
   "execution_count": 9,
   "metadata": {},
   "outputs": [
    {
     "name": "stdout",
     "output_type": "stream",
     "text": [
      "True\n",
      "False\n"
     ]
    }
   ],
   "source": [
    "# in()   #특정 문자열을 포함하고 있는지 확인(True, False)\n",
    "\n",
    "print(\"Hi\" in \"Hi Python\")\n",
    "print(\"Hi\" in \"Hello Python\")"
   ]
  },
  {
   "cell_type": "code",
   "execution_count": null,
   "metadata": {},
   "outputs": [],
   "source": []
  }
 ],
 "metadata": {
  "kernelspec": {
   "display_name": "Python 3",
   "language": "python",
   "name": "python3"
  },
  "language_info": {
   "codemirror_mode": {
    "name": "ipython",
    "version": 3
   },
   "file_extension": ".py",
   "mimetype": "text/x-python",
   "name": "python",
   "nbconvert_exporter": "python",
   "pygments_lexer": "ipython3",
   "version": "3.7.6"
  }
 },
 "nbformat": 4,
 "nbformat_minor": 4
}
