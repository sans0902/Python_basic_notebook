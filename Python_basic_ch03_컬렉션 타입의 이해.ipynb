{
 "cells": [
  {
   "cell_type": "markdown",
   "metadata": {},
   "source": [
    " ## 컬렉션 타입\n",
    " - 변수: 하나에 값을 저장할 수 있는 메모리 공간\n",
    " - 컬렉션 타입: 다양한 자료형의 여러값을 저장 가능\n",
    " - list, dict, tuple, set\n",
    " \n",
    "1. list[]\n",
    " - 시퀀스 자료형(연속 된 값 저장) -> 정렬 가능\n",
    " - mutable(생성 후 변경 가능)\n",
    " - index 사용 -> slicing 가능\n",
    " - packing과 unpacking 가능\n",
    " - 멤버함수: append(), extend(), insert(), remove(), pop(), sort() 등등   \n",
    "   \n",
    "2. tuple()\n",
    " - 시퀀스 자료형(연속 된 값 저장) -> 정렬 불가능\n",
    " - immutable(생성 후 변경 불가능)\n",
    " - index 사용 -> slicing 가능\n",
    " - () 생략가능\n",
    " - 1개의 원소만 가지는 경우 , 사용 -> (1,)  \n",
    "   \n",
    "3. dict{key:value}\n",
    " - key, value 한 쌍으로 구성 된 구조\n",
    " - key를 통해서 value 접근\n",
    " - key 중복 불가, value 중복 가능\n",
    " - 순서 없음 -> index 없음\n",
    " - 멤버함수: undate(), get() keys() values() items()  \n",
    "   \n",
    "   \n",
    "4. set{}\n",
    " - dict type에서 key만 활용하는ㄴ 데이터 구조로 이해\n",
    " - 수학 집합과 같은 개념\n",
    " - 순서 없음 -> index 없음\n",
    " - set 구조 내 중복값 허용 안함\n",
    " - 멤버함수: union(), intersection(), difference() 등"
   ]
  },
  {
   "cell_type": "markdown",
   "metadata": {},
   "source": [
    "## 리스트(list)\n",
    "- 여러개의 값을 하나에 저장할 수 있는 타입\n",
    "\n",
    "### 패킹과 언패킹\n",
    "- 패킹: list를 사용하는것\n",
    "- 언패킹:  list안의 값을 밖으로 배출하는 것\n"
   ]
  },
  {
   "cell_type": "code",
   "execution_count": 1,
   "metadata": {},
   "outputs": [
    {
     "name": "stdout",
     "output_type": "stream",
     "text": [
      "1\n",
      "2\n",
      "3\n"
     ]
    }
   ],
   "source": [
    "t = [1,2,3]\n",
    "a,b,c = t\n",
    "print(a)\n",
    "print(b)\n",
    "print(c)"
   ]
  },
  {
   "cell_type": "markdown",
   "metadata": {},
   "source": [
    "## 사전(dictionary)\n",
    "- {key:value} 한 쌍으로 값을 저장(key를 사용하여 값을 관리\n",
    "- 선언시 \"{}\"를 사용\n",
    "- 리스트와는 다르게 인덱스가 없음(list와 다름)\n",
    "- key는 절대 중복하여 사용 불가 (value와 다름)"
   ]
  },
  {
   "cell_type": "code",
   "execution_count": 3,
   "metadata": {},
   "outputs": [
    {
     "name": "stdout",
     "output_type": "stream",
     "text": [
      "seoul\n"
     ]
    }
   ],
   "source": [
    "t = {\"korea\":\"seoul\", \"japan\":\"tokyo\", \"canada\":\"ottawa\"}\n",
    "print(t[\"korea\"])"
   ]
  },
  {
   "cell_type": "markdown",
   "metadata": {},
   "source": [
    "## 튜플(Tuple)\n",
    "- 생성 후 변경이 불가능, 선언시 \"()\"를 사용\n",
    "- 리스트의 연산, 인덱싱, 슬라이싱 등을 동일하게 사용\n",
    "- 프로그램이 작동하는 동안 변경되지 않은 데이터 저장에 사용\n",
    "- 함수의 반환등 변수에 의한 에러를 사전에 방지"
   ]
  },
  {
   "cell_type": "code",
   "execution_count": 5,
   "metadata": {},
   "outputs": [
    {
     "name": "stdout",
     "output_type": "stream",
     "text": [
      "<class 'int'>\n",
      "<class 'tuple'>\n"
     ]
    }
   ],
   "source": [
    "t = (1)\n",
    "a = (1,)\n",
    "print(type(t))\n",
    "print(type(a))"
   ]
  },
  {
   "cell_type": "markdown",
   "metadata": {},
   "source": [
    "## 집합(Set)\n",
    "\n",
    "- 값을 순서없이 저장\n",
    "- 중복값을 허용하지 않은\n",
    "- 수학에서 활용하는 다양한 집합연산 가능\n",
    "- set()를 사용해서 생성 가능\n",
    "- \"{}\"를 사용(dict는 \"{}\"안에 key:value 형식으로 값을 저장)"
   ]
  },
  {
   "cell_type": "code",
   "execution_count": 7,
   "metadata": {},
   "outputs": [
    {
     "name": "stdout",
     "output_type": "stream",
     "text": [
      "[] [1, 2, 3] ['lrw', 3.14, [1, 2, 3]]\n"
     ]
    }
   ],
   "source": [
    "# list 초기화\n",
    "# 1. [] 사용\n",
    "# 2. list()사용\n",
    "\n",
    "list_a = []\n",
    "list_b = [1,2,3]\n",
    "list_c = [\"lrw\", 3.14, [1,2,3]]\n",
    "print(list_a, list_b, list_c)"
   ]
  },
  {
   "cell_type": "code",
   "execution_count": 10,
   "metadata": {},
   "outputs": [
    {
     "name": "stdout",
     "output_type": "stream",
     "text": [
      "['H', 'e', 'l', 'l', 'o']\n",
      "[1, 2, 3]\n"
     ]
    }
   ],
   "source": [
    "str_a = \"Hello\"\n",
    "list_b = list(str_a)  # 문자열 -> list 형변환 가능\n",
    "print(list_b)\n",
    "\n",
    "tuple_a = (1,2,3)\n",
    "list_e = list(tuple_a)\n",
    "print(list_e)\n",
    "\n"
   ]
  },
  {
   "cell_type": "code",
   "execution_count": 11,
   "metadata": {},
   "outputs": [
    {
     "name": "stdout",
     "output_type": "stream",
     "text": [
      "4\n",
      "[2, 3]\n",
      "[1, 2]\n"
     ]
    }
   ],
   "source": [
    "list_f = [1,2,3,4,5]\n",
    "print(list_f[3])\n",
    "print(list_f[1:3])\n",
    "print(list_f[:2])"
   ]
  },
  {
   "cell_type": "code",
   "execution_count": 12,
   "metadata": {},
   "outputs": [
    {
     "name": "stdout",
     "output_type": "stream",
     "text": [
      "[1, 2, 3, 10]\n"
     ]
    }
   ],
   "source": [
    "# append() : list 마지막에 값을 추가\n",
    "a = [1, 2, 3]\n",
    "a.append(10)\n",
    "print(a)"
   ]
  },
  {
   "cell_type": "code",
   "execution_count": 14,
   "metadata": {},
   "outputs": [
    {
     "name": "stdout",
     "output_type": "stream",
     "text": [
      "[1, 99, 2, 3]\n"
     ]
    }
   ],
   "source": [
    "# insert() : list 원하는 인덱스 위치에 값을 추가\n",
    "a = [1, 2, 3]\n",
    "a.insert(1, 99)\n",
    "print(a)\n"
   ]
  },
  {
   "cell_type": "code",
   "execution_count": 17,
   "metadata": {},
   "outputs": [
    {
     "name": "stdout",
     "output_type": "stream",
     "text": [
      "[1, 2, 3, [4, 5, 6]]\n"
     ]
    }
   ],
   "source": [
    "# extend() : list와 list를 병합\n",
    "a = [1, 2, 3]\n",
    "b = [4, 5, 6]\n",
    "\n",
    "a.append(b)\n",
    "print(a)"
   ]
  },
  {
   "cell_type": "code",
   "execution_count": 2,
   "metadata": {},
   "outputs": [
    {
     "name": "stdout",
     "output_type": "stream",
     "text": [
      "[1, 2, 3, 4, 5, 6]\n"
     ]
    }
   ],
   "source": [
    "a = [1, 2, 3]\n",
    "b = [4, 5, 6]\n",
    "#a.extend(b)\n",
    "a += b   # a = a+b\n",
    "print(a)"
   ]
  },
  {
   "cell_type": "code",
   "execution_count": 7,
   "metadata": {},
   "outputs": [
    {
     "name": "stdout",
     "output_type": "stream",
     "text": [
      "[1, 3]\n"
     ]
    }
   ],
   "source": [
    "# remove() : 값을 통해서 삭제(안덱스 번호 X)\n",
    "a= [1,2,3]\n",
    "a.remove(2)\n",
    "print(a)"
   ]
  },
  {
   "cell_type": "code",
   "execution_count": 52,
   "metadata": {},
   "outputs": [
    {
     "name": "stdout",
     "output_type": "stream",
     "text": [
      "[4, 6]\n",
      "5\n"
     ]
    }
   ],
   "source": [
    "# pop() : 인덱스 번호를 통해서 삭제(+ 삭제 전 값을 변수에 저장 가능)\n",
    "a= [4,5,6]\n",
    "b= a.pop(1)\n",
    "print(a)\n",
    "print(b)"
   ]
  },
  {
   "cell_type": "code",
   "execution_count": 10,
   "metadata": {},
   "outputs": [
    {
     "name": "stdout",
     "output_type": "stream",
     "text": [
      "2\n",
      "[20]\n"
     ]
    }
   ],
   "source": [
    "# index(): 찾고자 하는 값의 인덱스 번호 출력\n",
    "a= [6, 10, 20, 5, 3]\n",
    "print(a.index(20))"
   ]
  },
  {
   "cell_type": "code",
   "execution_count": 18,
   "metadata": {},
   "outputs": [
    {
     "name": "stdout",
     "output_type": "stream",
     "text": [
      "turtlue43\n"
     ]
    }
   ],
   "source": [
    "email = \"turtlue43@gmail.com\"\n",
    "\n",
    "email_idx = email.index(\"@\")\n",
    "print(email[:email_idx])"
   ]
  },
  {
   "cell_type": "code",
   "execution_count": 17,
   "metadata": {},
   "outputs": [
    {
     "name": "stdout",
     "output_type": "stream",
     "text": [
      "True\n",
      "False\n"
     ]
    }
   ],
   "source": [
    "# in : list내에 해당 값이 존재하는지 판별(True, False)\n",
    "a= [1, 2, 3]\n",
    "print(3 in a)\n",
    "print(5 in a)"
   ]
  },
  {
   "cell_type": "code",
   "execution_count": 28,
   "metadata": {},
   "outputs": [
    {
     "name": "stdout",
     "output_type": "stream",
     "text": [
      "[1, 3, 8, 45, 65, 435, 676]\n",
      "[1, 435, 65, 3, 676, 8, 45]\n",
      "==================================================\n",
      "[676, 435, 65, 45, 8, 3, 1]\n"
     ]
    }
   ],
   "source": [
    "# sort() and sorted() : list 정렬\n",
    "# sort(): 원본 list를 정렬한다\n",
    "# sorted(): 원본 list를 복제 후 정렬한다.\n",
    "\n",
    "a = [1, 435, 65, 3, 676, 8, 45]\n",
    "b = sorted(a)   # 정렬 default : 오름차순\n",
    "print(b)\n",
    "print(a)\n",
    "print(\"=\"* 50)\n",
    "a.sort(reverse = True)    #내림차순\n",
    "print(a)\n"
   ]
  },
  {
   "cell_type": "markdown",
   "metadata": {},
   "source": [
    "##  Tuple()"
   ]
  },
  {
   "cell_type": "code",
   "execution_count": 33,
   "metadata": {},
   "outputs": [
    {
     "name": "stdout",
     "output_type": "stream",
     "text": [
      "<class 'list'>\n",
      "<class 'tuple'>\n",
      "<class 'tuple'>\n",
      "[99, 2, 3]\n"
     ]
    }
   ],
   "source": [
    "a = [1, 2, 3] # list type\n",
    "b = (1, 2, 3) # tuple type\n",
    "c = 5, 6, 7 # tuple type\n",
    "print(type(a))\n",
    "print(type(b))\n",
    "print(type(c))\n",
    "\n",
    "a[0] = 99\n",
    "print(a)\n",
    "#b[0] = 99  # tuple 자료형은 수정 불가\n",
    "#print(b)"
   ]
  },
  {
   "cell_type": "code",
   "execution_count": 35,
   "metadata": {},
   "outputs": [
    {
     "name": "stdout",
     "output_type": "stream",
     "text": [
      "1 2 3\n"
     ]
    }
   ],
   "source": [
    "# packing and unpacking\n",
    "# - list와 tuple 가능\n",
    "# - [], () -> 값을 묶음(packing)\n",
    "\n",
    "tuple_num = (1,2,3) # packing\n",
    "a, b, c= tuple_num # unpacking\n",
    "print(a,b,c)"
   ]
  },
  {
   "cell_type": "markdown",
   "metadata": {},
   "source": [
    "### 연습문제\n",
    "변수 a와 b의 값을 교환하세요"
   ]
  },
  {
   "cell_type": "code",
   "execution_count": 37,
   "metadata": {},
   "outputs": [
    {
     "name": "stdout",
     "output_type": "stream",
     "text": [
      "9\n",
      "5\n",
      "9\n",
      "5\n"
     ]
    }
   ],
   "source": [
    "a = 5\n",
    "b = 9\n",
    "c = a\n",
    "a = b\n",
    "b = c\n",
    "\n",
    "\n",
    "# 코드작성\n",
    "\n",
    "print(a) #출력 9\n",
    "print(b) #출력 5 \n",
    "\n",
    "# 정답1 임시 변수 사용\n",
    "temp = a\n",
    "a = b\n",
    "b = temp\n",
    "\n",
    "# 정답2 tuple 사용\n",
    "a, b = b, a\n",
    "print(a)\n",
    "print(b)"
   ]
  },
  {
   "cell_type": "markdown",
   "metadata": {},
   "source": [
    "### 3.dict"
   ]
  },
  {
   "cell_type": "code",
   "execution_count": 38,
   "metadata": {},
   "outputs": [
    {
     "name": "stdout",
     "output_type": "stream",
     "text": [
      "ottwa\n",
      "9\n"
     ]
    }
   ],
   "source": [
    "dict_a = {\"korea\" : \"seoul\",\n",
    "          \"canada\": \"ottawa\",\n",
    "          \"USA\" : \"washington D.C\"}\n",
    "dict_b = {0:1, 1:6, 2:4, 3:9}\n",
    "print(dict_a[\"canada\"])\n",
    "print(dict_b[3])"
   ]
  },
  {
   "cell_type": "code",
   "execution_count": 46,
   "metadata": {},
   "outputs": [
    {
     "name": "stdout",
     "output_type": "stream",
     "text": [
      "{'USA': 'washington D.C',\n",
      " 'canada': 'ottawa',\n",
      " 'japan': 'kyoto',\n",
      " 'japan2': 'kyoto',\n",
      " 'korea': 'seoul'}\n"
     ]
    }
   ],
   "source": [
    "import pprint\n",
    "dict_a = {\"korea\" : \"seoul\",\n",
    "          \"canada\": \"ottawa\",\n",
    "          \"USA\" : \"washington D.C\"}\n",
    "dict_a[\"japan\"] = \"tokyo\"\n",
    "dict_a[\"japan\"]= \"kyoto\" # 값을 입력 -> key값이 X(입력), key값이 O(수정)\n",
    "dict_a[\"japan2\"] = \"kyoto\"\n",
    "#print(dict_a)\n",
    "pprint.pprint(dict_a)"
   ]
  },
  {
   "cell_type": "code",
   "execution_count": 54,
   "metadata": {},
   "outputs": [
    {
     "name": "stdout",
     "output_type": "stream",
     "text": [
      "{'a': 9, 'b': 2, 'd': 4, 'e': 5}\n"
     ]
    }
   ],
   "source": [
    "# update(): dict와 dict 병합\n",
    "a= {\n",
    "    \"a\": 1,\n",
    "    \"b\": 2\n",
    "}\n",
    "b= {\n",
    "    \"a\": 9,   \n",
    "    \"d\": 4,\n",
    "    \"e\": 5\n",
    "}   \n",
    "a.update(b)\n",
    "print(a)"
   ]
  },
  {
   "cell_type": "code",
   "execution_count": 49,
   "metadata": {},
   "outputs": [
    {
     "name": "stdout",
     "output_type": "stream",
     "text": [
      "{'b': 2, 'd': 4, 'e': 5}\n",
      "9\n"
     ]
    }
   ],
   "source": [
    "# pop() : dict 항목 삭제\n",
    "c = a.pop(\"a\")\n",
    "print(a)\n",
    "print(c)"
   ]
  },
  {
   "cell_type": "code",
   "execution_count": 51,
   "metadata": {},
   "outputs": [
    {
     "name": "stdout",
     "output_type": "stream",
     "text": [
      "5\n",
      "None\n"
     ]
    }
   ],
   "source": [
    "# 값 접근\n",
    "print(a[\"e\"])\n",
    "#print(a[\"f\"])\n",
    "print(a.get(\"f\"))"
   ]
  },
  {
   "cell_type": "code",
   "execution_count": 53,
   "metadata": {},
   "outputs": [
    {
     "name": "stdout",
     "output_type": "stream",
     "text": [
      "False\n"
     ]
    }
   ],
   "source": [
    "# in\n",
    "print(\"b\" in \"a\")"
   ]
  },
  {
   "cell_type": "code",
   "execution_count": 55,
   "metadata": {},
   "outputs": [
    {
     "name": "stdout",
     "output_type": "stream",
     "text": [
      "{'a': 9, 'b': 2, 'd': 4, 'e': 5}\n",
      "{}\n"
     ]
    }
   ],
   "source": [
    "# clear() : dict 초기화\n",
    "print(a)\n",
    "a.clear()\n",
    "print(a)"
   ]
  }
 ],
 "metadata": {
  "kernelspec": {
   "display_name": "Python 3",
   "language": "python",
   "name": "python3"
  },
  "language_info": {
   "codemirror_mode": {
    "name": "ipython",
    "version": 3
   },
   "file_extension": ".py",
   "mimetype": "text/x-python",
   "name": "python",
   "nbconvert_exporter": "python",
   "pygments_lexer": "ipython3",
   "version": "3.7.6"
  }
 },
 "nbformat": 4,
 "nbformat_minor": 4
}
